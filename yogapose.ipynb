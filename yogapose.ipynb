{
 "cells": [
  {
   "cell_type": "code",
   "execution_count": 2,
   "id": "6e78a098-4d93-42ea-bc00-76f432f6c5a8",
   "metadata": {},
   "outputs": [
    {
     "name": "stdout",
     "output_type": "stream",
     "text": [
      "Feature extraction completed. Saved to CSV files.\n"
     ]
    }
   ],
   "source": [
    "import mediapipe as mp\n",
    "import cv2\n",
    "import os\n",
    "import pandas as pd\n",
    "\n",
    "# Initialize MediaPipe Pose\n",
    "mp_pose = mp.solutions.pose\n",
    "pose = mp_pose.Pose()\n",
    "\n",
    "def extract_landmarks_from_directory(directory):\n",
    "    data = []\n",
    "    labels = []\n",
    "    for pose_name in os.listdir(directory):\n",
    "        pose_path = os.path.join(directory, pose_name)\n",
    "        if os.path.isdir(pose_path):\n",
    "            for image_file in os.listdir(pose_path):\n",
    "                image_path = os.path.join(pose_path, image_file)\n",
    "                image = cv2.imread(image_path)\n",
    "                if image is None:\n",
    "                    print(f\"Could not read image {image_path}\")\n",
    "                    continue\n",
    "                image_rgb = cv2.cvtColor(image, cv2.COLOR_BGR2RGB)\n",
    "                results = pose.process(image_rgb)\n",
    "                if results.pose_landmarks:\n",
    "                    # Extract 33 landmarks (x, y, z for each)\n",
    "                    landmarks = results.pose_landmarks.landmark\n",
    "                    data.append([coord for landmark in landmarks for coord in (landmark.x, landmark.y, landmark.z)])\n",
    "                    labels.append(pose_name)\n",
    "    return data, labels\n",
    "\n",
    "# Paths to TRAIN and TEST directories\n",
    "train_dir = r\"C:\\Users\\hp\\Downloads\\DATASET\\TRAIN\"\n",
    "test_dir = r\"C:\\Users\\hp\\Downloads\\DATASET\\TEST\"\n",
    "\n",
    "# Extract landmarks and labels\n",
    "train_data, train_labels = extract_landmarks_from_directory(train_dir)\n",
    "test_data, test_labels = extract_landmarks_from_directory(test_dir)\n",
    "\n",
    "# Save as DataFrame for later use\n",
    "train_df = pd.DataFrame(train_data)\n",
    "train_df['label'] = train_labels\n",
    "\n",
    "test_df = pd.DataFrame(test_data)\n",
    "test_df['label'] = test_labels\n",
    "\n",
    "# Save to CSV for backup\n",
    "train_df.to_csv('train_landmarks.csv', index=False)\n",
    "test_df.to_csv('test_landmarks.csv', index=False)\n",
    "\n",
    "print(\"Feature extraction completed. Saved to CSV files.\")\n"
   ]
  },
  {
   "cell_type": "code",
   "execution_count": 3,
   "id": "077ca104-d731-42e7-af28-50fd255b2373",
   "metadata": {},
   "outputs": [
    {
     "name": "stdout",
     "output_type": "stream",
     "text": [
      "Accuracy: 0.8620689655172413\n",
      "Classification Report:\n",
      "               precision    recall  f1-score   support\n",
      "\n",
      "     downdog       0.97      0.92      0.94        91\n",
      "     goddess       0.85      0.58      0.69        76\n",
      "       plank       0.82      0.98      0.89       102\n",
      "        tree       0.86      0.87      0.86        62\n",
      "    warrior2       0.84      0.89      0.87       104\n",
      "\n",
      "    accuracy                           0.86       435\n",
      "   macro avg       0.87      0.85      0.85       435\n",
      "weighted avg       0.86      0.86      0.86       435\n",
      "\n"
     ]
    }
   ],
   "source": [
    "from sklearn.ensemble import RandomForestClassifier\n",
    "from sklearn.metrics import accuracy_score, classification_report\n",
    "import pandas as pd\n",
    "\n",
    "# Load extracted data\n",
    "train_df = pd.read_csv('train_landmarks.csv')\n",
    "test_df = pd.read_csv('test_landmarks.csv')\n",
    "\n",
    "# Separate features and labels\n",
    "X_train = train_df.iloc[:, :-1]  # All columns except the last one\n",
    "y_train = train_df['label']      # Last column\n",
    "\n",
    "X_test = test_df.iloc[:, :-1]\n",
    "y_test = test_df['label']\n",
    "\n",
    "# Train a Random Forest Classifier\n",
    "clf = RandomForestClassifier(n_estimators=100, random_state=42)\n",
    "clf.fit(X_train, y_train)\n",
    "\n",
    "# Evaluate the model\n",
    "y_pred = clf.predict(X_test)\n",
    "print(\"Accuracy:\", accuracy_score(y_test, y_pred))\n",
    "print(\"Classification Report:\\n\", classification_report(y_test, y_pred))\n"
   ]
  },
  {
   "cell_type": "code",
   "execution_count": 4,
   "id": "102bdb83-de54-4cdd-9605-fbc507e3e79f",
   "metadata": {},
   "outputs": [
    {
     "name": "stdout",
     "output_type": "stream",
     "text": [
      "Model saved as 'yoga_pose_model.pkl'.\n"
     ]
    }
   ],
   "source": [
    "import joblib\n",
    "\n",
    "# Save the trained model\n",
    "joblib.dump(clf, 'yoga_pose_model.pkl')\n",
    "print(\"Model saved as 'yoga_pose_model.pkl'.\")\n"
   ]
  },
  {
   "cell_type": "code",
   "execution_count": null,
   "id": "4741e727-7ad4-4a29-8248-267c087d745c",
   "metadata": {},
   "outputs": [],
   "source": [
    "import warnings\n",
    "\n",
    "# Ignore sklearn warnings\n",
    "warnings.filterwarnings(\"ignore\", category=UserWarning, module=\"sklearn\")\n",
    "import joblib\n",
    "import numpy as np\n",
    "import cv2\n",
    "import mediapipe as mp\n",
    "\n",
    "# Load the trained model\n",
    "clf = joblib.load('yoga_pose_model.pkl')\n",
    "\n",
    "# Initialize MediaPipe Pose\n",
    "mp_pose = mp.solutions.pose\n",
    "pose = mp_pose.Pose()\n",
    "\n",
    "# Open webcam feed\n",
    "cap = cv2.VideoCapture(0)\n",
    "\n",
    "while cap.isOpened():\n",
    "    ret, frame = cap.read()\n",
    "    if not ret:\n",
    "        break\n",
    "\n",
    "    # Convert frame to RGB\n",
    "    image = cv2.cvtColor(frame, cv2.COLOR_BGR2RGB)\n",
    "    image.flags.writeable = False\n",
    "\n",
    "    # Detect pose\n",
    "    results = pose.process(image)\n",
    "    image.flags.writeable = True\n",
    "    image = cv2.cvtColor(image, cv2.COLOR_RGB2BGR)\n",
    "\n",
    "    # Extract landmarks\n",
    "    if results.pose_landmarks:\n",
    "        landmarks = results.pose_landmarks.landmark\n",
    "        data = np.array([[landmark.x, landmark.y, landmark.z] for landmark in landmarks]).flatten()\n",
    "\n",
    "        # Ensure input is in the same format as the training data (NumPy array)\n",
    "        input_data = np.array([data])\n",
    "\n",
    "        # Predict pose\n",
    "        prediction = clf.predict(input_data)[0]\n",
    "\n",
    "        # Display predicted pose\n",
    "        cv2.putText(image, f'Pose: {prediction}', (10, 50), cv2.FONT_HERSHEY_SIMPLEX, 1, (0, 255, 0), 2)\n",
    "\n",
    "    # Show video feed\n",
    "    cv2.imshow('Yoga Pose Detection', image)\n",
    "\n",
    "    if cv2.waitKey(10) & 0xFF == ord('q'):\n",
    "        break\n",
    "\n",
    "cap.release()\n",
    "cv2.destroyAllWindows()\n"
   ]
  },
  {
   "cell_type": "code",
   "execution_count": null,
   "id": "a5900f27-2722-4f71-bd76-ba659deff828",
   "metadata": {},
   "outputs": [],
   "source": []
  },
  {
   "cell_type": "code",
   "execution_count": null,
   "id": "2985fc46-a9fd-4cb5-ba01-3ae8b8a75249",
   "metadata": {},
   "outputs": [],
   "source": []
  }
 ],
 "metadata": {
  "kernelspec": {
   "display_name": "Python 3 (ipykernel)",
   "language": "python",
   "name": "python3"
  },
  "language_info": {
   "codemirror_mode": {
    "name": "ipython",
    "version": 3
   },
   "file_extension": ".py",
   "mimetype": "text/x-python",
   "name": "python",
   "nbconvert_exporter": "python",
   "pygments_lexer": "ipython3",
   "version": "3.12.5"
  }
 },
 "nbformat": 4,
 "nbformat_minor": 5
}
